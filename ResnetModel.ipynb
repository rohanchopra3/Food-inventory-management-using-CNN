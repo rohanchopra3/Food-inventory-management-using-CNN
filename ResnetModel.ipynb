{
 "cells": [
  {
   "cell_type": "code",
   "execution_count": 1,
   "metadata": {
    "id": "q8Qk9pdXkQE0"
   },
   "outputs": [],
   "source": [
    "from pycocotools.coco import COCO\n",
    "import numpy as np\n",
    "import skimage.io as io\n",
    "import matplotlib.pyplot as plt\n",
    "import matplotlib.gridspec as gridspec\n",
    "import os\n",
    "from PIL import Image\n",
    "import cv2\n",
    "import tensorflow as tf\n",
    "from keras.utils import to_categorical\n",
    "from tensorflow.keras import datasets, layers, models\n",
    "from sklearn.preprocessing import LabelEncoder\n",
    "from tensorflow import keras\n",
    "from keras.models import Sequential\n",
    "from keras.layers import Dense, Dropout, Flatten\n",
    "from keras.layers import Conv2D, MaxPooling2D, BatchNormalization\n",
    "from keras.optimizers import SGD\n",
    "from keras.constraints import maxnorm\n",
    "from sklearn.model_selection import train_test_split\n"
   ]
  },
  {
   "cell_type": "markdown",
   "metadata": {
    "id": "ScFofPnKzZqC"
   },
   "source": []
  },
  {
   "cell_type": "code",
   "execution_count": 2,
   "metadata": {
    "colab": {
     "base_uri": "https://localhost:8080/"
    },
    "id": "HBK0AyX8kT4N",
    "outputId": "86d078ef-ef29-419f-aed7-b1638475e6a9"
   },
   "outputs": [
    {
     "name": "stdout",
     "output_type": "stream",
     "text": [
      "Drive already mounted at /content/drive; to attempt to forcibly remount, call drive.mount(\"/content/drive\", force_remount=True).\n"
     ]
    }
   ],
   "source": [
    "from google.colab import drive\n",
    "drive.mount('/content/drive')"
   ]
  },
  {
   "cell_type": "code",
   "execution_count": 3,
   "metadata": {
    "id": "9mZzeNGl6K0N"
   },
   "outputs": [],
   "source": [
    "train_x = np.load('/content/drive/MyDrive/batch1_train.npy') \n",
    "train_y = np.load('/content/drive/MyDrive/batch1_label.npy') "
   ]
  },
  {
   "cell_type": "code",
   "execution_count": 4,
   "metadata": {
    "colab": {
     "base_uri": "https://localhost:8080/"
    },
    "id": "Z7JOh1nAf2yy",
    "outputId": "efd64321-218c-4666-f0a2-8cdcc00e8683"
   },
   "outputs": [
    {
     "data": {
      "text/plain": [
       "(2600, 250, 250, 3)"
      ]
     },
     "execution_count": 4,
     "metadata": {
      "tags": []
     },
     "output_type": "execute_result"
    }
   ],
   "source": [
    "np.shape(train_x)"
   ]
  },
  {
   "cell_type": "code",
   "execution_count": 5,
   "metadata": {
    "id": "MgsVFV4y7BkL"
   },
   "outputs": [],
   "source": [
    "label_encoder = LabelEncoder()\n",
    "integer_encoded = label_encoder.fit_transform(train_y)\n",
    "train_y_encoded = to_categorical(integer_encoded)\n",
    "train_x_train ,train_x_test ,train_y_train ,train_y_test= train_test_split(train_x,train_y_encoded ,test_size= 0.3)"
   ]
  },
  {
   "cell_type": "code",
   "execution_count": 7,
   "metadata": {
    "id": "3L6UO572TY8t"
   },
   "outputs": [],
   "source": [
    "num_classes = 9\n",
    "input_shape=(250,250, 3)"
   ]
  },
  {
   "cell_type": "code",
   "execution_count": 8,
   "metadata": {
    "colab": {
     "base_uri": "https://localhost:8080/"
    },
    "id": "I168_aUJDkJh",
    "outputId": "1595d1d4-96c1-4dc0-ab4e-4b3b8e75e6f8"
   },
   "outputs": [
    {
     "data": {
      "text/plain": [
       "(1820, 250, 250, 3)"
      ]
     },
     "execution_count": 8,
     "metadata": {
      "tags": []
     },
     "output_type": "execute_result"
    }
   ],
   "source": [
    "np.shape(train_x_train)"
   ]
  },
  {
   "cell_type": "code",
   "execution_count": 11,
   "metadata": {
    "colab": {
     "base_uri": "https://localhost:8080/"
    },
    "id": "DdFNqYb7rdNM",
    "outputId": "38ad70df-0283-4f05-c08d-75067745bba7"
   },
   "outputs": [
    {
     "name": "stdout",
     "output_type": "stream",
     "text": [
      "Model: \"functional_3\"\n",
      "__________________________________________________________________________________________________\n",
      "Layer (type)                    Output Shape         Param #     Connected to                     \n",
      "==================================================================================================\n",
      "input_2 (InputLayer)            [(None, 250, 250, 3) 0                                            \n",
      "__________________________________________________________________________________________________\n",
      "conv2d_4 (Conv2D)               (None, 250, 250, 64) 1792        input_2[0][0]                    \n",
      "__________________________________________________________________________________________________\n",
      "conv2d_5 (Conv2D)               (None, 250, 250, 64) 36928       conv2d_4[0][0]                   \n",
      "__________________________________________________________________________________________________\n",
      "conv2d_3 (Conv2D)               (None, 250, 250, 64) 256         input_2[0][0]                    \n",
      "__________________________________________________________________________________________________\n",
      "add_1 (Add)                     (None, 250, 250, 64) 0           conv2d_5[0][0]                   \n",
      "                                                                 conv2d_3[0][0]                   \n",
      "__________________________________________________________________________________________________\n",
      "activation_1 (Activation)       (None, 250, 250, 64) 0           add_1[0][0]                      \n",
      "__________________________________________________________________________________________________\n",
      "flatten_1 (Flatten)             (None, 4000000)      0           activation_1[0][0]               \n",
      "__________________________________________________________________________________________________\n",
      "dense_1 (Dense)                 (None, 9)            36000009    flatten_1[0][0]                  \n",
      "==================================================================================================\n",
      "Total params: 36,038,985\n",
      "Trainable params: 36,038,985\n",
      "Non-trainable params: 0\n",
      "__________________________________________________________________________________________________\n"
     ]
    }
   ],
   "source": [
    "def residual_module(layer_in, n_filters):\n",
    "    merge_input = layer_in\n",
    "    if layer_in.shape[-1] != n_filters:\n",
    "        merge_input = Conv2D(n_filters, (1,1), padding='same', activation='relu', kernel_initializer='he_normal')(layer_in)\n",
    "    conv1 = Conv2D(n_filters, (3,3), padding='same', activation='relu', kernel_initializer='he_normal')(layer_in)\n",
    "    conv2 = Conv2D(n_filters, (3,3), padding='same', activation='linear', kernel_initializer='he_normal')(conv1)\n",
    "    layer_out = layers.add([conv2, merge_input])\n",
    "    layer_out = layers.Activation('relu')(layer_out)\n",
    "    return layer_out\n",
    " \n",
    "inp = layers.Input(shape=input_shape )\n",
    "layer = residual_module(visible, 64)\n",
    "fl = layers.Flatten()(layer)\n",
    "dense3 = layers.Dense(num_classes, activation='softmax')(fl)\n",
    "model = keras.Model(inputs=inp, outputs=dense3)\n",
    "model.compile(loss='categorical_crossentropy', optimizer='sgd', metrics=['accuracy'])\n",
    "model.summary()"
   ]
  },
  {
   "cell_type": "code",
   "execution_count": 13,
   "metadata": {
    "colab": {
     "base_uri": "https://localhost:8080/"
    },
    "id": "tIEHncTirfb2",
    "outputId": "32bd723b-e807-45bc-dc22-5b8104b4f777"
   },
   "outputs": [
    {
     "name": "stdout",
     "output_type": "stream",
     "text": [
      "Epoch 1/4\n",
      "46/46 [==============================] - 80s 2s/step - loss: 0.6160 - accuracy: 0.8620 - val_loss: 1.9034 - val_accuracy: 0.3709\n",
      "Epoch 2/4\n",
      "46/46 [==============================] - 80s 2s/step - loss: 0.4296 - accuracy: 0.9141 - val_loss: 2.9228 - val_accuracy: 0.2830\n",
      "Epoch 3/4\n",
      "46/46 [==============================] - 79s 2s/step - loss: 0.3879 - accuracy: 0.9217 - val_loss: 2.1531 - val_accuracy: 0.3791\n",
      "Epoch 4/4\n",
      "46/46 [==============================] - 79s 2s/step - loss: 0.2434 - accuracy: 0.9650 - val_loss: 2.5686 - val_accuracy: 0.3407\n"
     ]
    },
    {
     "data": {
      "text/plain": [
       "<tensorflow.python.keras.callbacks.History at 0x7fdc5bc5d588>"
      ]
     },
     "execution_count": 13,
     "metadata": {
      "tags": []
     },
     "output_type": "execute_result"
    }
   ],
   "source": [
    "model.fit(train_x_train, train_y_train,validation_split=0.20, epochs=4)"
   ]
  },
  {
   "cell_type": "code",
   "execution_count": 14,
   "metadata": {
    "id": "Tu57yBdxvxnI"
   },
   "outputs": [],
   "source": [
    "train_x = np.load('/content/drive/MyDrive/batch2_train.npy') \n",
    "train_y = np.load('/content/drive/MyDrive/batch2_label.npy') \n",
    "label_encoder = LabelEncoder()\n",
    "integer_encoded = label_encoder.fit_transform(train_y)\n",
    "train_y_encoded = to_categorical(integer_encoded)\n",
    "train_x_train ,train_x_test ,train_y_train ,train_y_test= train_test_split(train_x,train_y_encoded ,test_size= 0.3)"
   ]
  },
  {
   "cell_type": "code",
   "execution_count": 15,
   "metadata": {
    "colab": {
     "base_uri": "https://localhost:8080/"
    },
    "id": "l879LJxtv9XV",
    "outputId": "725f4e51-dec9-4506-ec0a-4fea73cd9ec2"
   },
   "outputs": [
    {
     "name": "stdout",
     "output_type": "stream",
     "text": [
      "Epoch 1/4\n",
      "44/44 [==============================] - 77s 2s/step - loss: 2.0759 - accuracy: 0.3288 - val_loss: 1.6575 - val_accuracy: 0.4086\n",
      "Epoch 2/4\n",
      "44/44 [==============================] - 76s 2s/step - loss: 1.4272 - accuracy: 0.5125 - val_loss: 1.8470 - val_accuracy: 0.3486\n",
      "Epoch 3/4\n",
      "44/44 [==============================] - 76s 2s/step - loss: 1.0914 - accuracy: 0.6648 - val_loss: 1.8238 - val_accuracy: 0.4029\n",
      "Epoch 4/4\n",
      "44/44 [==============================] - 76s 2s/step - loss: 0.7706 - accuracy: 0.8006 - val_loss: 1.9624 - val_accuracy: 0.3857\n"
     ]
    },
    {
     "data": {
      "text/plain": [
       "<tensorflow.python.keras.callbacks.History at 0x7fdc5b43de10>"
      ]
     },
     "execution_count": 15,
     "metadata": {
      "tags": []
     },
     "output_type": "execute_result"
    }
   ],
   "source": [
    "model.fit(train_x_train, train_y_train,validation_split=0.20, epochs=4)"
   ]
  },
  {
   "cell_type": "code",
   "execution_count": 17,
   "metadata": {
    "colab": {
     "base_uri": "https://localhost:8080/"
    },
    "id": "9NBxfgT-xYYU",
    "outputId": "ecfc2f24-21de-4d52-d469-ede1bde926f4"
   },
   "outputs": [
    {
     "name": "stdout",
     "output_type": "stream",
     "text": [
      "Epoch 1/4\n",
      "44/44 [==============================] - 77s 2s/step - loss: 1.8317 - accuracy: 0.3360 - val_loss: 1.6423 - val_accuracy: 0.4029\n",
      "Epoch 2/4\n",
      "44/44 [==============================] - 76s 2s/step - loss: 1.1867 - accuracy: 0.6083 - val_loss: 1.6538 - val_accuracy: 0.3971\n",
      "Epoch 3/4\n",
      "44/44 [==============================] - 75s 2s/step - loss: 0.7813 - accuracy: 0.7963 - val_loss: 1.8815 - val_accuracy: 0.3943\n",
      "Epoch 4/4\n",
      "44/44 [==============================] - 75s 2s/step - loss: 0.5390 - accuracy: 0.8863 - val_loss: 1.9706 - val_accuracy: 0.3914\n"
     ]
    },
    {
     "data": {
      "text/plain": [
       "<tensorflow.python.keras.callbacks.History at 0x7fdc5ad73f60>"
      ]
     },
     "execution_count": 17,
     "metadata": {
      "tags": []
     },
     "output_type": "execute_result"
    }
   ],
   "source": [
    "train_x = np.load('/content/batch3/batch3_train.npy') \n",
    "train_y = np.load('/content/batch3/batch3_label.npy') \n",
    "label_encoder = LabelEncoder()\n",
    "integer_encoded = label_encoder.fit_transform(train_y)\n",
    "train_y_encoded = to_categorical(integer_encoded)\n",
    "train_x_train ,train_x_test ,train_y_train ,train_y_test= train_test_split(train_x,train_y_encoded ,test_size= 0.3)\n",
    "model.fit(train_x_train, train_y_train,validation_split=0.20, epochs=4)"
   ]
  },
  {
   "cell_type": "code",
   "execution_count": 19,
   "metadata": {
    "colab": {
     "base_uri": "https://localhost:8080/"
    },
    "id": "ntWUnObTz5uO",
    "outputId": "a158a781-9a7c-4ba9-afcd-240c3aefda3a"
   },
   "outputs": [
    {
     "name": "stdout",
     "output_type": "stream",
     "text": [
      "Epoch 1/4\n",
      "60/60 [==============================] - 107s 2s/step - loss: 1.7233 - accuracy: 0.3783 - val_loss: 1.6943 - val_accuracy: 0.3718\n",
      "Epoch 2/4\n",
      "60/60 [==============================] - 106s 2s/step - loss: 1.0017 - accuracy: 0.6863 - val_loss: 1.8729 - val_accuracy: 0.4013\n",
      "Epoch 3/4\n",
      "60/60 [==============================] - 107s 2s/step - loss: 0.6345 - accuracy: 0.8481 - val_loss: 1.8450 - val_accuracy: 0.3971\n",
      "Epoch 4/4\n",
      "60/60 [==============================] - 107s 2s/step - loss: 0.5175 - accuracy: 0.9028 - val_loss: 2.1404 - val_accuracy: 0.4034\n"
     ]
    }
   ],
   "source": [
    "train_x = np.load('/content/batch4/batch4_train.npy') \n",
    "train_y = np.load('/content/batch4/batch4_label.npy') \n",
    "label_encoder = LabelEncoder()\n",
    "integer_encoded = label_encoder.fit_transform(train_y)\n",
    "train_y_encoded = to_categorical(integer_encoded)\n",
    "train_x_train ,train_x_test ,train_y_train ,train_y_test= train_test_split(train_x,train_y_encoded ,test_size= 0.3)\n",
    "history = model.fit(train_x_train, train_y_train,validation_split=0.20, epochs=4)"
   ]
  },
  {
   "cell_type": "code",
   "execution_count": 20,
   "metadata": {
    "colab": {
     "base_uri": "https://localhost:8080/",
     "height": 312
    },
    "id": "7iRKjA2Q17WZ",
    "outputId": "500ccb04-4725-4393-ffe1-dfa8446dbedb"
   },
   "outputs": [
    {
     "name": "stdout",
     "output_type": "stream",
     "text": [
      "dict_keys(['loss', 'accuracy', 'val_loss', 'val_accuracy'])\n"
     ]
    },
    {
     "data": {
      "image/png": "[encoded data removed]",
      "text/plain": [
       "<Figure size 432x288 with 1 Axes>"
      ]
     },
     "metadata": {
      "needs_background": "light",
      "tags": []
     },
     "output_type": "display_data"
    }
   ],
   "source": [
    "print(history.history.keys())\n",
    "plt.plot(history.history['loss'])\n",
    "plt.plot(history.history['val_loss'])\n",
    "plt.title('model loss')\n",
    "plt.ylabel('loss')\n",
    "plt.xlabel('epoch')\n",
    "plt.legend(['train', 'test'], loc='upper left')\n",
    "plt.show()"
   ]
  },
  {
   "cell_type": "code",
   "execution_count": 22,
   "metadata": {
    "colab": {
     "base_uri": "https://localhost:8080/",
     "height": 295
    },
    "id": "O7v6AAqg2FmP",
    "outputId": "6f59a695-5e23-477e-86ec-306387b0108b"
   },
   "outputs": [
    {
     "data": {
      "image/png": "[encoded data removed]",
      "text/plain": [
       "<Figure size 432x288 with 1 Axes>"
      ]
     },
     "metadata": {
      "needs_background": "light",
      "tags": []
     },
     "output_type": "display_data"
    }
   ],
   "source": [
    "plt.plot(history.history['accuracy'])\n",
    "plt.plot(history.history['val_accuracy'])\n",
    "plt.title('model accuracy')\n",
    "plt.ylabel('accuracy')\n",
    "plt.xlabel('epoch')\n",
    "plt.legend(['train', 'test'], loc='upper left')\n",
    "plt.show()"
   ]
  },
  {
   "cell_type": "code",
   "execution_count": 25,
   "metadata": {
    "id": "gSdERc9Y2Nbc"
   },
   "outputs": [],
   "source": [
    "train_x = np.load('/content/batch5/batch5_train.npy') \n",
    "train_y = np.load('/content/batch5/batch5_label.npy') \n",
    "label_encoder = LabelEncoder()\n",
    "y_l = label_encoder.fit_transform(train_y)\n",
    "train_y_encoded = to_categorical(y_l)\n"
   ]
  },
  {
   "cell_type": "code",
   "execution_count": 26,
   "metadata": {
    "colab": {
     "base_uri": "https://localhost:8080/"
    },
    "id": "WOXseh372w9n",
    "outputId": "c3560724-9b2e-433a-e533-9eb9ec5164c3"
   },
   "outputs": [
    {
     "name": "stdout",
     "output_type": "stream",
     "text": [
      "63/63 [==============================] - 16s 250ms/step - loss: 2.1781 - accuracy: 0.3840\n"
     ]
    }
   ],
   "source": [
    "import time\n",
    "start_time = time.time()\n",
    "loss, accuracy = model.evaluate(train_x, train_y_encoded, verbose=1)\n",
    "end_time = time.time() - start_time"
   ]
  },
  {
   "cell_type": "code",
   "execution_count": 27,
   "metadata": {
    "colab": {
     "base_uri": "https://localhost:8080/"
    },
    "id": "rprCsY343CEs",
    "outputId": "0d5b1368-b083-4ae1-bcf7-034cb69ffa72"
   },
   "outputs": [
    {
     "name": "stdout",
     "output_type": "stream",
     "text": [
      "total time: 17.023390769958496\n"
     ]
    }
   ],
   "source": [
    "print(\"total time: \"+str(end_time))"
   ]
  },
  {
   "cell_type": "code",
   "execution_count": 28,
   "metadata": {
    "colab": {
     "base_uri": "https://localhost:8080/"
    },
    "id": "67obr-Zr3Gcf",
    "outputId": "d08c3d65-65db-44d8-c6e5-74af6aadfade"
   },
   "outputs": [
    {
     "data": {
      "text/plain": [
       "2.1781389713287354"
      ]
     },
     "execution_count": 28,
     "metadata": {
      "tags": []
     },
     "output_type": "execute_result"
    }
   ],
   "source": [
    "loss"
   ]
  },
  {
   "cell_type": "code",
   "execution_count": 29,
   "metadata": {
    "colab": {
     "base_uri": "https://localhost:8080/"
    },
    "id": "yAmlGwVj3IiL",
    "outputId": "79a60a31-7566-4779-e052-c5adf3f1694b"
   },
   "outputs": [
    {
     "data": {
      "text/plain": [
       "0.3840000033378601"
      ]
     },
     "execution_count": 29,
     "metadata": {
      "tags": []
     },
     "output_type": "execute_result"
    }
   ],
   "source": [
    "accuracy"
   ]
  },
  {
   "cell_type": "code",
   "execution_count": 31,
   "metadata": {
    "colab": {
     "base_uri": "https://localhost:8080/"
    },
    "id": "R98rKtM-3KGT",
    "outputId": "7976eb4e-2c1c-4c34-ae74-beb217671959"
   },
   "outputs": [
    {
     "name": "stdout",
     "output_type": "stream",
     "text": [
      "              precision    recall  f1-score   support\n",
      "\n",
      "           0       0.26      0.16      0.20       164\n",
      "           1       0.38      0.39      0.38       268\n",
      "           2       0.53      0.34      0.42       187\n",
      "           3       0.31      0.41      0.35       283\n",
      "           4       0.09      0.04      0.05       157\n",
      "           5       0.32      0.18      0.23       166\n",
      "           6       0.88      0.97      0.92       212\n",
      "           7       0.34      0.54      0.42       328\n",
      "           8       0.17      0.15      0.16       235\n",
      "\n",
      "    accuracy                           0.38      2000\n",
      "   macro avg       0.37      0.35      0.35      2000\n",
      "weighted avg       0.37      0.38      0.37      2000\n",
      "\n"
     ]
    }
   ],
   "source": [
    "from sklearn.metrics import classification_report, confusion_matrix\n",
    "from sklearn.preprocessing import LabelEncoder\n",
    "print(classification_report(y_l, np.argmax(model.predict(train_x),axis=1)))"
   ]
  }
 ],
 "metadata": {
  "accelerator": "TPU",
  "colab": {
   "collapsed_sections": [],
   "machine_shape": "hm",
   "name": "Project.ipynb",
   "provenance": []
  },
  "kernelspec": {
   "display_name": "Python 3",
   "language": "python",
   "name": "python3"
  },
  "language_info": {
   "codemirror_mode": {
    "name": "ipython",
    "version": 3
   },
   "file_extension": ".py",
   "mimetype": "text/x-python",
   "name": "python",
   "nbconvert_exporter": "python",
   "pygments_lexer": "ipython3",
   "version": "3.7.6"
  }
 },
 "nbformat": 4,
 "nbformat_minor": 1
}
